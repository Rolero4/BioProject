{
 "cells": [
  {
   "cell_type": "code",
   "execution_count": 1,
   "outputs": [],
   "source": [
    "# LAB 12\n",
    "import pandas as pd\n",
    "from sklearn import linear_model\n",
    "import random\n"
   ],
   "metadata": {
    "collapsed": false,
    "pycharm": {
     "name": "#%%\n"
    }
   }
  },
  {
   "cell_type": "code",
   "execution_count": null,
   "outputs": [],
   "source": [
    "df = pd.read_csv('Resources/CSV_files/data_pionowo.csv', delimiter = ';')"
   ],
   "metadata": {
    "collapsed": false,
    "pycharm": {
     "name": "#%%\n"
    }
   }
  },
  {
   "cell_type": "code",
   "execution_count": 37,
   "outputs": [],
   "source": [
    "#szukanie dobrych kolumn do wykonania regresji\n",
    "#obwod szyi, klatki, klatki na wdechu, pasa, bioder i uda? do percent body fat? / body fat mass / waga\n",
    "#szerokosc barkow, bioder klatki? do percent body fat / body fat mass / waga / freefatmasof (ffmof) / smm"
   ],
   "metadata": {
    "collapsed": false,
    "pycharm": {
     "name": "#%%\n"
    }
   }
  },
  {
   "cell_type": "code",
   "execution_count": 54,
   "outputs": [
    {
     "data": {
      "text/plain": "['ID',\n 'DataUrodzenia',\n 'Plec',\n 'Wysokosc',\n 'WysokoscSiedzeniowa',\n 'ObwodSzyi',\n 'ObwodKlatkiPiersiowej',\n 'ObwodKlatkiPiersiowejWdech',\n 'ObwodPasa',\n 'ObwodBioder',\n 'ObwodUda',\n 'ObwodRamienia',\n 'SzerokoscBarkow',\n 'SzerokoscBioder',\n 'SzerokoscKlatkiPiersiowej',\n 'GlebokoscKlatkiPiersiowej',\n 'FaldNaRamieniu',\n 'FaldPodLopatka',\n 'FaldNaBrzuchu',\n 'CisnienieKrwiSkurczowe',\n 'CisnienieKrwiRozkurczowe',\n 'TetnoKrwi',\n 'Age',\n 'Weight',\n 'LowerLimit_WeightNormalRange_',\n 'UpperLimit_WeightNormalRange_',\n 'TBW_TotalBodyWater_',\n 'LowerLimit_TBWNormalRange_',\n 'UpperLimit_TBWNormalRange_',\n 'ICW_IntracellularWater_',\n 'LowerLimit_ICWNormalRange_',\n 'UpperLimit_ICWNormalRange_',\n 'ECW_ExtracellularWater_',\n 'LowerLimit_ECWNormalRange_',\n 'UpperLimit_ECWNormalRange_',\n 'BFM_BodyFatMass_',\n 'LowerLimit_BFMNormalRange_',\n 'UpperLimit_BFMNormalRange_',\n 'SLM_SoftLeanMass_',\n 'LowerLimit_SLMNormalRange_',\n 'UpperLimit_SLMNormalRange_',\n 'SMM_SkeletalMuscleMass_',\n 'LowerLimit_SMMNormalRange_',\n 'UpperLimit_SMMNormalRange_',\n 'BMI_BodyMassIndex_',\n 'LowerLimit_BMINormalRange_',\n 'UpperLimit_BMINormalRange_',\n 'PBF_PercentBodyFat_',\n 'LowerLimit_PBFNormalRange_',\n 'UpperLimit_PBFNormalRange_',\n 'FFMofRightArm',\n 'LowerLimit_FFMofRightArmNormalRange_',\n 'UpperLimit_FFMofRightArmNormalRange_',\n 'FFMpofRightArm',\n 'FFMofLeftArm',\n 'LowerLimit_FFMofLeftArmNormalRange_',\n 'UpperLimit_FFMofLeftArmNormalRange_',\n 'FFMpofLeftArm',\n 'FFMpofTrunk',\n 'FFMofRightLeg',\n 'LowerLimit_FFMofRightLegNormalRange_',\n 'UpperLimit_FFMofRightLegNormalRange_',\n 'FFMpofRightLeg',\n 'FFMofLeftLeg',\n 'LowerLimit_FFMofLeftLegNormalRange_',\n 'UpperLimit_FFMofLeftLegNormalRange_',\n 'FFMpofLeftLeg',\n 'ECW_TBW',\n 'TargetWeight',\n 'WeightControl',\n 'WHR_Waist_HipRatio_',\n 'LowerLimit_WHRNormalRange_',\n 'UpperLimit_WHRNormalRange_',\n 'VFL_VisceralFatLevel_',\n 'AC_ArmCircumference_',\n 'AMC_ArmMuscleCircumference_',\n 'GrowthScore',\n 'ObesityDegreeofaChild',\n 'LowerLimit_ObesityDegreeofaChildNormalRange_',\n 'UpperLimit_ObesityDegreeofaChildNormalRange_']"
     },
     "execution_count": 54,
     "metadata": {},
     "output_type": "execute_result"
    }
   ],
   "source": [
    "column_names = df.columns.tolist()\n",
    "column_names"
   ],
   "metadata": {
    "collapsed": false,
    "pycharm": {
     "name": "#%%\n"
    }
   }
  },
  {
   "cell_type": "code",
   "execution_count": 8,
   "outputs": [],
   "source": [
    "# LAB 13\n",
    "class Project:\n",
    "    @staticmethod\n",
    "    def delete_columns_by_names(data: pd.DataFrame, cols: list):\n",
    "        data.drop(labels=cols, axis=1, inplace=True)"
   ],
   "metadata": {
    "collapsed": false,
    "pycharm": {
     "name": "#%%\n"
    }
   }
  },
  {
   "cell_type": "code",
   "execution_count": null,
   "outputs": [],
   "source": [
    "#nazwy kolumn do usunięcia\n",
    "cols_names_to_delete=[\"ID\", \"DataUrodzenia\", \"Age\", 'LowerLimit_TBWNormalRange_', 'UpperLimit_TBWNormalRange_',\n",
    "'ICW_IntracellularWater_', 'LowerLimit_ICWNormalRange_', 'UpperLimit_ICWNormalRange_', 'ECW_ExtracellularWater_',\n",
    "'LowerLimit_ECWNormalRange_','UpperLimit_ECWNormalRange_', 'LowerLimit_BFMNormalRange_', 'UpperLimit_BFMNormalRange_',\n",
    "'LowerLimit_SLMNormalRange_', 'UpperLimit_SLMNormalRange_', 'LowerLimit_SMMNormalRange_', 'UpperLimit_SMMNormalRange_',\n",
    "'LowerLimit_BMINormalRange_','UpperLimit_BMINormalRange_', 'LowerLimit_PBFNormalRange_', 'UpperLimit_PBFNormalRange_',\n",
    "'LowerLimit_FFMofLeftArmNormalRange_','UpperLimit_FFMofLeftArmNormalRange_', 'LowerLimit_FFMofRightLegNormalRange_',\n",
    "'UpperLimit_FFMofRightLegNormalRange_', 'LowerLimit_FFMofLeftLegNormalRange_','UpperLimit_FFMofLeftLegNormalRange_',\n",
    "'ECW_TBW', 'TargetWeight', 'WeightControl', 'WHR_Waist_HipRatio_', 'LowerLimit_WHRNormalRange_','UpperLimit_WHRNormalRange_',\n",
    "'AC_ArmCircumference_', 'AMC_ArmMuscleCircumference_', 'GrowthScore', 'ObesityDegreeofaChild',\n",
    "'LowerLimit_ObesityDegreeofaChildNormalRange_', 'UpperLimit_ObesityDegreeofaChildNormalRange_']\n",
    "Project.delete_columns_by_names(df, cols_names_to_delete)\n"
   ],
   "metadata": {
    "collapsed": false,
    "pycharm": {
     "name": "#%%\n",
     "is_executing": true
    }
   }
  },
  {
   "cell_type": "code",
   "execution_count": 66,
   "outputs": [],
   "source": [
    "#druga partia usuwania kolumn\n",
    "cols_names_to_delete=['CisnienieKrwiSkurczowe', 'CisnienieKrwiRozkurczowe', 'TetnoKrwi',\n",
    "'LowerLimit_WeightNormalRange_','UpperLimit_WeightNormalRange_', 'TBW_TotalBodyWater_',\n",
    "'LowerLimit_FFMofRightArmNormalRange_','UpperLimit_FFMofRightArmNormalRange_',\n",
    "'FFMpofTrunk',  'FFMpofLeftArm',  'FFMpofRightLeg',  'FFMpofLeftLeg', 'VFL_VisceralFatLevel_']\n",
    "Project.delete_columns_by_names(df, cols_names_to_delete)"
   ],
   "metadata": {
    "collapsed": false,
    "pycharm": {
     "name": "#%%\n"
    }
   }
  },
  {
   "cell_type": "code",
   "execution_count": 85,
   "outputs": [],
   "source": [
    "#usuwanie rzędów z \"NaN\"\n",
    "df = df.dropna()"
   ],
   "metadata": {
    "collapsed": false,
    "pycharm": {
     "name": "#%%\n"
    }
   }
  },
  {
   "cell_type": "code",
   "execution_count": 88,
   "outputs": [],
   "source": [
    "df.to_csv('Resources/CSV_files/Clear_data.csv', index=False)"
   ],
   "metadata": {
    "collapsed": false,
    "pycharm": {
     "name": "#%%\n"
    }
   }
  },
  {
   "cell_type": "code",
   "execution_count": 3,
   "outputs": [
    {
     "data": {
      "text/plain": "    Plec Wysokosc WysokoscSiedzeniowa ObwodSzyi ObwodKlatkiPiersiowej  \\\n0      M      183                95,4        39                    86   \n1      M      189                  96        39                  84,5   \n2      M    183,1                96,5        40                    91   \n3      M    171,1                85,3      31,5                    71   \n4      M    188,4                84,2        36                    78   \n..   ...      ...                 ...       ...                   ...   \n364    F      162                86,7      31,5                    66   \n365    F    162,5                83,2        29                    66   \n366    F    163,3                84,4        30                  66,5   \n367    F    163,6                84,6        29                    67   \n368    F    163,6                84,4      28,5                  67,5   \n\n    ObwodKlatkiPiersiowejWdech ObwodPasa ObwodBioder ObwodUda ObwodRamienia  \\\n0                           92        80         100       54            29   \n1                         89,5        88         103     55,5          29,5   \n2                           94        90         104       62            32   \n3                           80        61          83       46            22   \n4                         82,5      69,5          92       51            24   \n..                         ...       ...         ...      ...           ...   \n364                         76      65,5          91       51          22,5   \n365                       68,5        63          90       47            22   \n366                         68        67        91,5     47,5            23   \n367                         71        69          93       51            23   \n368                         68        67          95       51            24   \n\n     ... BFM_BodyFatMass_ SLM_SoftLeanMass_ SMM_SkeletalMuscleMass_  \\\n0    ...             10,3              65,8                    39,9   \n1    ...             12,5              67,9                    41,5   \n2    ...             13,9              72,6                    44,5   \n3    ...              3,6              43,5                    25,2   \n4    ...              3,2              59,9                    36,2   \n..   ...              ...               ...                     ...   \n364  ...             13,3              37,9                      22   \n365  ...             12,1              34,3                    19,4   \n366  ...             14,9              35,2                    20,1   \n367  ...             15,2              35,1                      20   \n368  ...             16,5              34,1                    19,4   \n\n    BMI_BodyMassIndex_ PBF_PercentBodyFat_ FFMofRightArm FFMpofRightArm  \\\n0                   24                12,8          3,66          100,9   \n1                 25,2                14,7          3,84          104,7   \n2                 27,2                15,3          4,18          111,9   \n3                 16,9                 7,2          2,39          101,4   \n4                 18,8                 4,8          3,54          111,8   \n..                 ...                 ...           ...            ...   \n364               20,5                24,7          1,79           91,4   \n365               18,4                24,9          1,47           82,6   \n366               19,6                28,4          1,56           81,8   \n367               19,7                28,9          1,56           81,2   \n368               19,8                31,2          1,57           81,2   \n\n    FFMofLeftArm FFMofRightLeg FFMofLeftLeg  \n0           3,71         11,39        11,39  \n1           3,91         11,36        11,41  \n2           4,29          11,8        11,84  \n3           2,27          7,66         7,62  \n4           3,37          10,8        10,97  \n..           ...           ...          ...  \n364         1,73          6,32          6,3  \n365         1,52          5,67         5,72  \n366         1,63          5,88         5,94  \n367         1,62          5,85         5,87  \n368         1,61          5,83         5,85  \n\n[369 rows x 28 columns]",
      "text/html": "<div>\n<style scoped>\n    .dataframe tbody tr th:only-of-type {\n        vertical-align: middle;\n    }\n\n    .dataframe tbody tr th {\n        vertical-align: top;\n    }\n\n    .dataframe thead th {\n        text-align: right;\n    }\n</style>\n<table border=\"1\" class=\"dataframe\">\n  <thead>\n    <tr style=\"text-align: right;\">\n      <th></th>\n      <th>Plec</th>\n      <th>Wysokosc</th>\n      <th>WysokoscSiedzeniowa</th>\n      <th>ObwodSzyi</th>\n      <th>ObwodKlatkiPiersiowej</th>\n      <th>ObwodKlatkiPiersiowejWdech</th>\n      <th>ObwodPasa</th>\n      <th>ObwodBioder</th>\n      <th>ObwodUda</th>\n      <th>ObwodRamienia</th>\n      <th>...</th>\n      <th>BFM_BodyFatMass_</th>\n      <th>SLM_SoftLeanMass_</th>\n      <th>SMM_SkeletalMuscleMass_</th>\n      <th>BMI_BodyMassIndex_</th>\n      <th>PBF_PercentBodyFat_</th>\n      <th>FFMofRightArm</th>\n      <th>FFMpofRightArm</th>\n      <th>FFMofLeftArm</th>\n      <th>FFMofRightLeg</th>\n      <th>FFMofLeftLeg</th>\n    </tr>\n  </thead>\n  <tbody>\n    <tr>\n      <th>0</th>\n      <td>M</td>\n      <td>183</td>\n      <td>95,4</td>\n      <td>39</td>\n      <td>86</td>\n      <td>92</td>\n      <td>80</td>\n      <td>100</td>\n      <td>54</td>\n      <td>29</td>\n      <td>...</td>\n      <td>10,3</td>\n      <td>65,8</td>\n      <td>39,9</td>\n      <td>24</td>\n      <td>12,8</td>\n      <td>3,66</td>\n      <td>100,9</td>\n      <td>3,71</td>\n      <td>11,39</td>\n      <td>11,39</td>\n    </tr>\n    <tr>\n      <th>1</th>\n      <td>M</td>\n      <td>189</td>\n      <td>96</td>\n      <td>39</td>\n      <td>84,5</td>\n      <td>89,5</td>\n      <td>88</td>\n      <td>103</td>\n      <td>55,5</td>\n      <td>29,5</td>\n      <td>...</td>\n      <td>12,5</td>\n      <td>67,9</td>\n      <td>41,5</td>\n      <td>25,2</td>\n      <td>14,7</td>\n      <td>3,84</td>\n      <td>104,7</td>\n      <td>3,91</td>\n      <td>11,36</td>\n      <td>11,41</td>\n    </tr>\n    <tr>\n      <th>2</th>\n      <td>M</td>\n      <td>183,1</td>\n      <td>96,5</td>\n      <td>40</td>\n      <td>91</td>\n      <td>94</td>\n      <td>90</td>\n      <td>104</td>\n      <td>62</td>\n      <td>32</td>\n      <td>...</td>\n      <td>13,9</td>\n      <td>72,6</td>\n      <td>44,5</td>\n      <td>27,2</td>\n      <td>15,3</td>\n      <td>4,18</td>\n      <td>111,9</td>\n      <td>4,29</td>\n      <td>11,8</td>\n      <td>11,84</td>\n    </tr>\n    <tr>\n      <th>3</th>\n      <td>M</td>\n      <td>171,1</td>\n      <td>85,3</td>\n      <td>31,5</td>\n      <td>71</td>\n      <td>80</td>\n      <td>61</td>\n      <td>83</td>\n      <td>46</td>\n      <td>22</td>\n      <td>...</td>\n      <td>3,6</td>\n      <td>43,5</td>\n      <td>25,2</td>\n      <td>16,9</td>\n      <td>7,2</td>\n      <td>2,39</td>\n      <td>101,4</td>\n      <td>2,27</td>\n      <td>7,66</td>\n      <td>7,62</td>\n    </tr>\n    <tr>\n      <th>4</th>\n      <td>M</td>\n      <td>188,4</td>\n      <td>84,2</td>\n      <td>36</td>\n      <td>78</td>\n      <td>82,5</td>\n      <td>69,5</td>\n      <td>92</td>\n      <td>51</td>\n      <td>24</td>\n      <td>...</td>\n      <td>3,2</td>\n      <td>59,9</td>\n      <td>36,2</td>\n      <td>18,8</td>\n      <td>4,8</td>\n      <td>3,54</td>\n      <td>111,8</td>\n      <td>3,37</td>\n      <td>10,8</td>\n      <td>10,97</td>\n    </tr>\n    <tr>\n      <th>...</th>\n      <td>...</td>\n      <td>...</td>\n      <td>...</td>\n      <td>...</td>\n      <td>...</td>\n      <td>...</td>\n      <td>...</td>\n      <td>...</td>\n      <td>...</td>\n      <td>...</td>\n      <td>...</td>\n      <td>...</td>\n      <td>...</td>\n      <td>...</td>\n      <td>...</td>\n      <td>...</td>\n      <td>...</td>\n      <td>...</td>\n      <td>...</td>\n      <td>...</td>\n      <td>...</td>\n    </tr>\n    <tr>\n      <th>364</th>\n      <td>F</td>\n      <td>162</td>\n      <td>86,7</td>\n      <td>31,5</td>\n      <td>66</td>\n      <td>76</td>\n      <td>65,5</td>\n      <td>91</td>\n      <td>51</td>\n      <td>22,5</td>\n      <td>...</td>\n      <td>13,3</td>\n      <td>37,9</td>\n      <td>22</td>\n      <td>20,5</td>\n      <td>24,7</td>\n      <td>1,79</td>\n      <td>91,4</td>\n      <td>1,73</td>\n      <td>6,32</td>\n      <td>6,3</td>\n    </tr>\n    <tr>\n      <th>365</th>\n      <td>F</td>\n      <td>162,5</td>\n      <td>83,2</td>\n      <td>29</td>\n      <td>66</td>\n      <td>68,5</td>\n      <td>63</td>\n      <td>90</td>\n      <td>47</td>\n      <td>22</td>\n      <td>...</td>\n      <td>12,1</td>\n      <td>34,3</td>\n      <td>19,4</td>\n      <td>18,4</td>\n      <td>24,9</td>\n      <td>1,47</td>\n      <td>82,6</td>\n      <td>1,52</td>\n      <td>5,67</td>\n      <td>5,72</td>\n    </tr>\n    <tr>\n      <th>366</th>\n      <td>F</td>\n      <td>163,3</td>\n      <td>84,4</td>\n      <td>30</td>\n      <td>66,5</td>\n      <td>68</td>\n      <td>67</td>\n      <td>91,5</td>\n      <td>47,5</td>\n      <td>23</td>\n      <td>...</td>\n      <td>14,9</td>\n      <td>35,2</td>\n      <td>20,1</td>\n      <td>19,6</td>\n      <td>28,4</td>\n      <td>1,56</td>\n      <td>81,8</td>\n      <td>1,63</td>\n      <td>5,88</td>\n      <td>5,94</td>\n    </tr>\n    <tr>\n      <th>367</th>\n      <td>F</td>\n      <td>163,6</td>\n      <td>84,6</td>\n      <td>29</td>\n      <td>67</td>\n      <td>71</td>\n      <td>69</td>\n      <td>93</td>\n      <td>51</td>\n      <td>23</td>\n      <td>...</td>\n      <td>15,2</td>\n      <td>35,1</td>\n      <td>20</td>\n      <td>19,7</td>\n      <td>28,9</td>\n      <td>1,56</td>\n      <td>81,2</td>\n      <td>1,62</td>\n      <td>5,85</td>\n      <td>5,87</td>\n    </tr>\n    <tr>\n      <th>368</th>\n      <td>F</td>\n      <td>163,6</td>\n      <td>84,4</td>\n      <td>28,5</td>\n      <td>67,5</td>\n      <td>68</td>\n      <td>67</td>\n      <td>95</td>\n      <td>51</td>\n      <td>24</td>\n      <td>...</td>\n      <td>16,5</td>\n      <td>34,1</td>\n      <td>19,4</td>\n      <td>19,8</td>\n      <td>31,2</td>\n      <td>1,57</td>\n      <td>81,2</td>\n      <td>1,61</td>\n      <td>5,83</td>\n      <td>5,85</td>\n    </tr>\n  </tbody>\n</table>\n<p>369 rows × 28 columns</p>\n</div>"
     },
     "execution_count": 3,
     "metadata": {},
     "output_type": "execute_result"
    }
   ],
   "source": [
    "df = pd.read_csv('Resources/CSV_files/Clear_data.csv')\n",
    "df"
   ],
   "metadata": {
    "collapsed": false,
    "pycharm": {
     "name": "#%%\n"
    }
   }
  },
  {
   "cell_type": "code",
   "execution_count": 14,
   "outputs": [],
   "source": [
    "#lab 14\n",
    "#inbo i antro\n",
    "inbo = df.iloc[:,0:17]\n",
    "antro = df.iloc[:,17:len(df)]"
   ],
   "metadata": {
    "collapsed": false,
    "pycharm": {
     "name": "#%%\n"
    }
   }
  },
  {
   "cell_type": "code",
   "execution_count": 13,
   "outputs": [
    {
     "ename": "KeyError",
     "evalue": "\"['WysokoscSiedzeniowa' 'ObwodKlatkiPiersiowejWdech'\\n 'GlebokoscKlatkiPiersiowej' 'SzerokoscBarkow' 'SzerokoscBioder'\\n 'SzerokoscKlatkiPiersiowej' 'FaldNaRamieniu' 'FaldPodLopatka'\\n 'FaldNaBrzuchu'] not found in axis\"",
     "output_type": "error",
     "traceback": [
      "\u001B[1;31m---------------------------------------------------------------------------\u001B[0m",
      "\u001B[1;31mKeyError\u001B[0m                                  Traceback (most recent call last)",
      "\u001B[1;32m<ipython-input-13-be7f6c3f0f1f>\u001B[0m in \u001B[0;36m<module>\u001B[1;34m\u001B[0m\n\u001B[0;32m     11\u001B[0m     \u001B[1;34m'FaldNaBrzuchu'\u001B[0m\u001B[1;33m\u001B[0m\u001B[1;33m\u001B[0m\u001B[0m\n\u001B[0;32m     12\u001B[0m ]\n\u001B[1;32m---> 13\u001B[1;33m \u001B[0mProject\u001B[0m\u001B[1;33m.\u001B[0m\u001B[0mdelete_columns_by_names\u001B[0m\u001B[1;33m(\u001B[0m\u001B[0minbo\u001B[0m\u001B[1;33m,\u001B[0m \u001B[0mcols_names_to_delete\u001B[0m\u001B[1;33m)\u001B[0m\u001B[1;33m\u001B[0m\u001B[1;33m\u001B[0m\u001B[0m\n\u001B[0m\u001B[0;32m     14\u001B[0m \u001B[1;33m\u001B[0m\u001B[0m\n\u001B[0;32m     15\u001B[0m cols_names_to_delete = [\n",
      "\u001B[1;32m<ipython-input-10-fe3668ff4fb2>\u001B[0m in \u001B[0;36mdelete_columns_by_names\u001B[1;34m(data, cols)\u001B[0m\n\u001B[0;32m      7\u001B[0m     \u001B[1;33m@\u001B[0m\u001B[0mstaticmethod\u001B[0m\u001B[1;33m\u001B[0m\u001B[1;33m\u001B[0m\u001B[0m\n\u001B[0;32m      8\u001B[0m     \u001B[1;32mdef\u001B[0m \u001B[0mdelete_columns_by_names\u001B[0m\u001B[1;33m(\u001B[0m\u001B[0mdata\u001B[0m\u001B[1;33m:\u001B[0m \u001B[0mpd\u001B[0m\u001B[1;33m.\u001B[0m\u001B[0mDataFrame\u001B[0m\u001B[1;33m,\u001B[0m \u001B[0mcols\u001B[0m\u001B[1;33m:\u001B[0m \u001B[0mlist\u001B[0m\u001B[1;33m)\u001B[0m\u001B[1;33m:\u001B[0m\u001B[1;33m\u001B[0m\u001B[1;33m\u001B[0m\u001B[0m\n\u001B[1;32m----> 9\u001B[1;33m         \u001B[0mdata\u001B[0m\u001B[1;33m.\u001B[0m\u001B[0mdrop\u001B[0m\u001B[1;33m(\u001B[0m\u001B[0mlabels\u001B[0m\u001B[1;33m=\u001B[0m\u001B[0mcols\u001B[0m\u001B[1;33m,\u001B[0m \u001B[0maxis\u001B[0m\u001B[1;33m=\u001B[0m\u001B[1;36m1\u001B[0m\u001B[1;33m,\u001B[0m \u001B[0minplace\u001B[0m\u001B[1;33m=\u001B[0m\u001B[1;32mTrue\u001B[0m\u001B[1;33m)\u001B[0m\u001B[1;33m\u001B[0m\u001B[1;33m\u001B[0m\u001B[0m\n\u001B[0m\u001B[0;32m     10\u001B[0m \u001B[1;33m\u001B[0m\u001B[0m\n\u001B[0;32m     11\u001B[0m     \u001B[1;33m@\u001B[0m\u001B[0mstaticmethod\u001B[0m\u001B[1;33m\u001B[0m\u001B[1;33m\u001B[0m\u001B[0m\n",
      "\u001B[1;32m~\\anaconda3\\lib\\site-packages\\pandas\\core\\frame.py\u001B[0m in \u001B[0;36mdrop\u001B[1;34m(self, labels, axis, index, columns, level, inplace, errors)\u001B[0m\n\u001B[0;32m   4306\u001B[0m                 \u001B[0mweight\u001B[0m  \u001B[1;36m1.0\u001B[0m     \u001B[1;36m0.8\u001B[0m\u001B[1;33m\u001B[0m\u001B[1;33m\u001B[0m\u001B[0m\n\u001B[0;32m   4307\u001B[0m         \"\"\"\n\u001B[1;32m-> 4308\u001B[1;33m         return super().drop(\n\u001B[0m\u001B[0;32m   4309\u001B[0m             \u001B[0mlabels\u001B[0m\u001B[1;33m=\u001B[0m\u001B[0mlabels\u001B[0m\u001B[1;33m,\u001B[0m\u001B[1;33m\u001B[0m\u001B[1;33m\u001B[0m\u001B[0m\n\u001B[0;32m   4310\u001B[0m             \u001B[0maxis\u001B[0m\u001B[1;33m=\u001B[0m\u001B[0maxis\u001B[0m\u001B[1;33m,\u001B[0m\u001B[1;33m\u001B[0m\u001B[1;33m\u001B[0m\u001B[0m\n",
      "\u001B[1;32m~\\anaconda3\\lib\\site-packages\\pandas\\core\\generic.py\u001B[0m in \u001B[0;36mdrop\u001B[1;34m(self, labels, axis, index, columns, level, inplace, errors)\u001B[0m\n\u001B[0;32m   4151\u001B[0m         \u001B[1;32mfor\u001B[0m \u001B[0maxis\u001B[0m\u001B[1;33m,\u001B[0m \u001B[0mlabels\u001B[0m \u001B[1;32min\u001B[0m \u001B[0maxes\u001B[0m\u001B[1;33m.\u001B[0m\u001B[0mitems\u001B[0m\u001B[1;33m(\u001B[0m\u001B[1;33m)\u001B[0m\u001B[1;33m:\u001B[0m\u001B[1;33m\u001B[0m\u001B[1;33m\u001B[0m\u001B[0m\n\u001B[0;32m   4152\u001B[0m             \u001B[1;32mif\u001B[0m \u001B[0mlabels\u001B[0m \u001B[1;32mis\u001B[0m \u001B[1;32mnot\u001B[0m \u001B[1;32mNone\u001B[0m\u001B[1;33m:\u001B[0m\u001B[1;33m\u001B[0m\u001B[1;33m\u001B[0m\u001B[0m\n\u001B[1;32m-> 4153\u001B[1;33m                 \u001B[0mobj\u001B[0m \u001B[1;33m=\u001B[0m \u001B[0mobj\u001B[0m\u001B[1;33m.\u001B[0m\u001B[0m_drop_axis\u001B[0m\u001B[1;33m(\u001B[0m\u001B[0mlabels\u001B[0m\u001B[1;33m,\u001B[0m \u001B[0maxis\u001B[0m\u001B[1;33m,\u001B[0m \u001B[0mlevel\u001B[0m\u001B[1;33m=\u001B[0m\u001B[0mlevel\u001B[0m\u001B[1;33m,\u001B[0m \u001B[0merrors\u001B[0m\u001B[1;33m=\u001B[0m\u001B[0merrors\u001B[0m\u001B[1;33m)\u001B[0m\u001B[1;33m\u001B[0m\u001B[1;33m\u001B[0m\u001B[0m\n\u001B[0m\u001B[0;32m   4154\u001B[0m \u001B[1;33m\u001B[0m\u001B[0m\n\u001B[0;32m   4155\u001B[0m         \u001B[1;32mif\u001B[0m \u001B[0minplace\u001B[0m\u001B[1;33m:\u001B[0m\u001B[1;33m\u001B[0m\u001B[1;33m\u001B[0m\u001B[0m\n",
      "\u001B[1;32m~\\anaconda3\\lib\\site-packages\\pandas\\core\\generic.py\u001B[0m in \u001B[0;36m_drop_axis\u001B[1;34m(self, labels, axis, level, errors)\u001B[0m\n\u001B[0;32m   4186\u001B[0m                 \u001B[0mnew_axis\u001B[0m \u001B[1;33m=\u001B[0m \u001B[0maxis\u001B[0m\u001B[1;33m.\u001B[0m\u001B[0mdrop\u001B[0m\u001B[1;33m(\u001B[0m\u001B[0mlabels\u001B[0m\u001B[1;33m,\u001B[0m \u001B[0mlevel\u001B[0m\u001B[1;33m=\u001B[0m\u001B[0mlevel\u001B[0m\u001B[1;33m,\u001B[0m \u001B[0merrors\u001B[0m\u001B[1;33m=\u001B[0m\u001B[0merrors\u001B[0m\u001B[1;33m)\u001B[0m\u001B[1;33m\u001B[0m\u001B[1;33m\u001B[0m\u001B[0m\n\u001B[0;32m   4187\u001B[0m             \u001B[1;32melse\u001B[0m\u001B[1;33m:\u001B[0m\u001B[1;33m\u001B[0m\u001B[1;33m\u001B[0m\u001B[0m\n\u001B[1;32m-> 4188\u001B[1;33m                 \u001B[0mnew_axis\u001B[0m \u001B[1;33m=\u001B[0m \u001B[0maxis\u001B[0m\u001B[1;33m.\u001B[0m\u001B[0mdrop\u001B[0m\u001B[1;33m(\u001B[0m\u001B[0mlabels\u001B[0m\u001B[1;33m,\u001B[0m \u001B[0merrors\u001B[0m\u001B[1;33m=\u001B[0m\u001B[0merrors\u001B[0m\u001B[1;33m)\u001B[0m\u001B[1;33m\u001B[0m\u001B[1;33m\u001B[0m\u001B[0m\n\u001B[0m\u001B[0;32m   4189\u001B[0m             \u001B[0mresult\u001B[0m \u001B[1;33m=\u001B[0m \u001B[0mself\u001B[0m\u001B[1;33m.\u001B[0m\u001B[0mreindex\u001B[0m\u001B[1;33m(\u001B[0m\u001B[1;33m**\u001B[0m\u001B[1;33m{\u001B[0m\u001B[0maxis_name\u001B[0m\u001B[1;33m:\u001B[0m \u001B[0mnew_axis\u001B[0m\u001B[1;33m}\u001B[0m\u001B[1;33m)\u001B[0m\u001B[1;33m\u001B[0m\u001B[1;33m\u001B[0m\u001B[0m\n\u001B[0;32m   4190\u001B[0m \u001B[1;33m\u001B[0m\u001B[0m\n",
      "\u001B[1;32m~\\anaconda3\\lib\\site-packages\\pandas\\core\\indexes\\base.py\u001B[0m in \u001B[0;36mdrop\u001B[1;34m(self, labels, errors)\u001B[0m\n\u001B[0;32m   5589\u001B[0m         \u001B[1;32mif\u001B[0m \u001B[0mmask\u001B[0m\u001B[1;33m.\u001B[0m\u001B[0many\u001B[0m\u001B[1;33m(\u001B[0m\u001B[1;33m)\u001B[0m\u001B[1;33m:\u001B[0m\u001B[1;33m\u001B[0m\u001B[1;33m\u001B[0m\u001B[0m\n\u001B[0;32m   5590\u001B[0m             \u001B[1;32mif\u001B[0m \u001B[0merrors\u001B[0m \u001B[1;33m!=\u001B[0m \u001B[1;34m\"ignore\"\u001B[0m\u001B[1;33m:\u001B[0m\u001B[1;33m\u001B[0m\u001B[1;33m\u001B[0m\u001B[0m\n\u001B[1;32m-> 5591\u001B[1;33m                 \u001B[1;32mraise\u001B[0m \u001B[0mKeyError\u001B[0m\u001B[1;33m(\u001B[0m\u001B[1;34mf\"{labels[mask]} not found in axis\"\u001B[0m\u001B[1;33m)\u001B[0m\u001B[1;33m\u001B[0m\u001B[1;33m\u001B[0m\u001B[0m\n\u001B[0m\u001B[0;32m   5592\u001B[0m             \u001B[0mindexer\u001B[0m \u001B[1;33m=\u001B[0m \u001B[0mindexer\u001B[0m\u001B[1;33m[\u001B[0m\u001B[1;33m~\u001B[0m\u001B[0mmask\u001B[0m\u001B[1;33m]\u001B[0m\u001B[1;33m\u001B[0m\u001B[1;33m\u001B[0m\u001B[0m\n\u001B[0;32m   5593\u001B[0m         \u001B[1;32mreturn\u001B[0m \u001B[0mself\u001B[0m\u001B[1;33m.\u001B[0m\u001B[0mdelete\u001B[0m\u001B[1;33m(\u001B[0m\u001B[0mindexer\u001B[0m\u001B[1;33m)\u001B[0m\u001B[1;33m\u001B[0m\u001B[1;33m\u001B[0m\u001B[0m\n",
      "\u001B[1;31mKeyError\u001B[0m: \"['WysokoscSiedzeniowa' 'ObwodKlatkiPiersiowejWdech'\\n 'GlebokoscKlatkiPiersiowej' 'SzerokoscBarkow' 'SzerokoscBioder'\\n 'SzerokoscKlatkiPiersiowej' 'FaldNaRamieniu' 'FaldPodLopatka'\\n 'FaldNaBrzuchu'] not found in axis\""
     ]
    }
   ],
   "source": [
    "# trzecie usunięcia\n",
    "cols_names_to_delete = [\n",
    "    'WysokoscSiedzeniowa',\n",
    "    'ObwodKlatkiPiersiowejWdech',\n",
    "    'GlebokoscKlatkiPiersiowej',\n",
    "    'SzerokoscBarkow',\n",
    "    'SzerokoscBioder',\n",
    "    'SzerokoscKlatkiPiersiowej',\n",
    "    'FaldNaRamieniu',\n",
    "    'FaldPodLopatka',\n",
    "    'FaldNaBrzuchu'\n",
    "]\n",
    "Project.delete_columns_by_names(inbo, cols_names_to_delete)\n",
    "\n",
    "cols_names_to_delete = [\n",
    "    'FFMofRightArm',\n",
    "    'FFMpofRightArm',\n",
    "    'SLM_SoftLeanMass_',\n",
    "    'FFMofLeftArm',\n",
    "    'FFMofRightLeg',\n",
    "    'FFMofLeftLeg'\n",
    "]\n",
    "Project.delete_columns_by_names(antro, cols_names_to_delete)"
   ],
   "metadata": {
    "collapsed": false,
    "pycharm": {
     "name": "#%%\n"
    }
   }
  },
  {
   "cell_type": "code",
   "execution_count": 59,
   "outputs": [],
   "source": [
    "# zamiana k na 0, a m na 1 w inbo\n",
    "inbo['Plec'] = inbo['Plec'].replace(['F'], 0)\n",
    "inbo['Plec'] = inbo['Plec'].replace(['M'], 1)\n",
    "\n",
    "# zmiana przecinków na kropki\n",
    "inbo = inbo.replace(',','.', regex=True)\n",
    "antro = antro.replace(',','.', regex=True)\n",
    "\n",
    "inbo.to_csv('Resources/CSV_files/inbo_clear_data.csv', index=False)\n",
    "antro.to_csv('Resources/CSV_files/antro_clear_data.csv', index=False)"
   ],
   "metadata": {
    "collapsed": false,
    "pycharm": {
     "name": "#%%\n"
    }
   }
  },
  {
   "cell_type": "code",
   "execution_count": 85,
   "outputs": [],
   "source": [
    "antro = antro.join(inbo.Plec) # potrzebne do podziału"
   ],
   "metadata": {
    "collapsed": false,
    "pycharm": {
     "name": "#%%\n"
    }
   }
  },
  {
   "cell_type": "code",
   "execution_count": 93,
   "outputs": [],
   "source": [
    "# podzielenie plików antro na kobiety i mężczyzn\n",
    "antroF = antro.where(antro.Plec == 0)\n",
    "antroF = antroF.dropna()\n",
    "Project.delete_columns_by_names(antroF, 'Plec')\n",
    "\n",
    "antroM = antro.where(antro.Plec == 1)\n",
    "antroM = antroM.dropna()\n",
    "Project.delete_columns_by_names(antroM, 'Plec')\n",
    "\n",
    "\n",
    "antroM.to_csv('Resources/CSV_files/antroM.csv', index=False)\n",
    "antroF.to_csv('Resources/CSV_files/antroF.csv', index=False)"
   ],
   "metadata": {
    "collapsed": false,
    "pycharm": {
     "name": "#%%\n"
    }
   }
  },
  {
   "cell_type": "code",
   "execution_count": 95,
   "outputs": [],
   "source": [
    "# podzielenie plików inbo na kobiety i mężczyzn\n",
    "inboF = inbo.where(inbo.Plec == 0)\n",
    "inboF = inboF.dropna()\n",
    "Project.delete_columns_by_names(inboF, 'Plec')\n",
    "\n",
    "inboM = inbo.where(inbo.Plec == 1)\n",
    "inboM = inboM.dropna()\n",
    "Project.delete_columns_by_names(inboM, 'Plec')\n",
    "\n",
    "inboM.to_csv('Resources/CSV_files/inboM.csv', index=False)\n",
    "inboF.to_csv('Resources/CSV_files/inboF.csv', index=False)"
   ],
   "metadata": {
    "collapsed": false,
    "pycharm": {
     "name": "#%%\n"
    }
   }
  },
  {
   "cell_type": "code",
   "execution_count": 11,
   "outputs": [
    {
     "data": {
      "text/plain": "['Wysokosc',\n 'ObwodSzyi',\n 'ObwodKlatkiPiersiowej',\n 'ObwodPasa',\n 'ObwodBioder',\n 'ObwodUda',\n 'ObwodRamienia']"
     },
     "execution_count": 11,
     "metadata": {},
     "output_type": "execute_result"
    }
   ],
   "source": [
    "antroF = pd.read_csv('Resources/CSV_files/antroF.csv')\n",
    "antroM = pd.read_csv('Resources/CSV_files/antroM.csv')\n",
    "\n",
    "inboF = pd.read_csv('Resources/CSV_files/inboF.csv')\n",
    "inboM = pd.read_csv('Resources/CSV_files/inboM.csv')\n",
    "\n",
    "female = inboF.join(antroF)\n",
    "male = inboM.join(antroM)\n",
    "\n",
    "female.to_csv('Resources/CSV_files/FinishedResources/female.csv', index=False)\n",
    "male.to_csv('Resources/CSV_files/FinishedResources/male.csv', index=False)"
   ],
   "metadata": {
    "collapsed": false,
    "pycharm": {
     "name": "#%%\n"
    }
   }
  },
  {
   "cell_type": "code",
   "execution_count": 126,
   "outputs": [
    {
     "data": {
      "text/plain": "array([-0.02330082, -0.4487152 , -0.00977463,  0.21783171,  0.22213977,\n        0.17684039,  0.63504564])"
     },
     "execution_count": 126,
     "metadata": {},
     "output_type": "execute_result"
    }
   ],
   "source": [
    "# komórka testowa pierwszego przewidywania\n",
    "\n",
    "#tworzenie modelu regresji liniowej wielu zmiennych\n",
    "regWeightF = linear_model.LinearRegression()\n",
    "#tworzenie zbioru treningowego z inbody kobiet dla Wagi\n",
    "regWeightF.fit(inboF[['Wysokosc', 'ObwodSzyi', 'ObwodKlatkiPiersiowej', 'ObwodPasa', 'ObwodBioder', 'ObwodUda', 'ObwodRamienia']], antroF.Weight)\n",
    "regWeightF.predict([[185.0,35.0,78.5,71.5,87.0,51.0,24.0]])"
   ],
   "metadata": {
    "collapsed": false,
    "pycharm": {
     "name": "#%%\n"
    }
   }
  },
  {
   "cell_type": "code",
   "execution_count": 2,
   "outputs": [],
   "source": [
    "class Predictor:\n",
    "    @staticmethod\n",
    "    def prepareData():\n",
    "        dataF = pd.read_csv('Resources/CSV_files/FinishedResources/female.csv')\n",
    "        dataM = pd.read_csv('Resources/CSV_files/FinishedResources/male.csv')\n",
    "\n",
    "        #tasowanie i podzieleenie na dwa zbiory datasetu F\n",
    "        valid_and_training_dataset_tuple_female = Predictor.shuffleAndSplit(dataF)\n",
    "        validF = valid_and_training_dataset_tuple_female[1]\n",
    "        trainingF = valid_and_training_dataset_tuple_female[0]\n",
    "\n",
    "        #tasowanie i podzieleenie na dwa zbiory datasetu M\n",
    "        valid_and_training_dataset_tuple_male = Predictor.shuffleAndSplit(dataM)\n",
    "        validM = valid_and_training_dataset_tuple_male[1]\n",
    "        trainingM = valid_and_training_dataset_tuple_male[0]\n",
    "\n",
    "        return validF, trainingF, validM, trainingM\n",
    "\n",
    "    @staticmethod\n",
    "    def makeregs(dataT):\n",
    "        regs = [] # kolejnosc: Waga, Masa tłuszczu, Masa mięsniowa, BMI, Procent Tłuszczu\n",
    "\n",
    "        #tworzenie modelu regresji liniowej wielu zmiennych\n",
    "        for column in dataT.columns.tolist()[7:]:\n",
    "            reg = linear_model.LinearRegression()\n",
    "            #tworzenie zbioru treningowego z inbody dla danych zmiennych\n",
    "            reg.fit(dataT[['Wysokosc', 'ObwodSzyi', 'ObwodKlatkiPiersiowej', 'ObwodPasa', 'ObwodBioder', 'ObwodUda', 'ObwodRamienia']], dataT[column])\n",
    "            regs.append(reg)\n",
    "\n",
    "        return regs\n",
    "\n",
    "    @staticmethod\n",
    "    def error_calc(regs, dataV):\n",
    "        error_tup = []\n",
    "        for j in range(5):\n",
    "            error_of_line = 0\n",
    "            for i in range(len(dataV)):\n",
    "                predicted = regs[j].predict([[dataV.iat[i, 0], dataV.iat[i, 1], dataV.iat[i, 2], dataV.iat[i, 3],\n",
    "                                                    dataV.iat[i, 4], dataV.iat[i, 5], dataV.iat[i, 6]]])\n",
    "                error = dataV.iat[i, 7+j] - predicted\n",
    "                error = abs(error)\n",
    "                error_of_line += error\n",
    "            error_tup.append(error_of_line / len(dataV))\n",
    "\n",
    "        return error_tup\n",
    "\n",
    "\n",
    "    @staticmethod\n",
    "    def shuffleAndSplit(data: pd.DataFrame) -> pd.DataFrame:\n",
    "        for idx in range(len(data) - 1, 0, -1): # tablica od tyłu\n",
    "            rand_idx = random.randint(0, idx) #losowanie\n",
    "            data.iloc[idx], data.iloc[rand_idx] = data.iloc[rand_idx], data.iloc[idx]\n",
    "\n",
    "        n = len(data)\n",
    "        h = int(0.7 * n) #treningowy ustaliłem na 70%\n",
    "        return data.head(h), data.tail(n-h)"
   ],
   "metadata": {
    "collapsed": false,
    "pycharm": {
     "name": "#%%\n"
    }
   }
  },
  {
   "cell_type": "code",
   "execution_count": 3,
   "outputs": [],
   "source": [
    "wholetuple = Predictor.prepareData()\n",
    "validF = wholetuple[0]\n",
    "trainingF = wholetuple[1]\n",
    "validM = wholetuple[2]\n",
    "trainingM = wholetuple[3]"
   ],
   "metadata": {
    "collapsed": false,
    "pycharm": {
     "name": "#%%\n"
    }
   }
  },
  {
   "cell_type": "code",
   "execution_count": null,
   "outputs": [],
   "source": [],
   "metadata": {
    "collapsed": false,
    "pycharm": {
     "name": "#%%\n"
    }
   }
  },
  {
   "cell_type": "code",
   "execution_count": 4,
   "outputs": [
    {
     "name": "stdout",
     "output_type": "stream",
     "text": [
      "[array([1.51907265]), array([2.35349875]), array([0.83725406]), array([0.52525057]), array([3.7462429])]\n"
     ]
    }
   ],
   "source": [
    "print(Predictor.error_calc(Predictor.makeregs(trainingF), validF))"
   ],
   "metadata": {
    "collapsed": false,
    "pycharm": {
     "name": "#%%\n"
    }
   }
  },
  {
   "cell_type": "code",
   "execution_count": 10,
   "outputs": [
    {
     "name": "stdout",
     "output_type": "stream",
     "text": [
      "[1.95347257]\n"
     ]
    }
   ],
   "source": [
    "femaleregs = Predictor.makeregs(trainingF)\n",
    "print(femaleregs[1].predict([[validF.iat[0, 0], validF.iat[0, 1], validF.iat[0, 2], validF.iat[0, 3],\n",
    "                                                    validF.iat[0, 4], validF.iat[0, 5], validF.iat[0, 6]]]))"
   ],
   "metadata": {
    "collapsed": false,
    "pycharm": {
     "name": "#%%\n"
    }
   }
  },
  {
   "cell_type": "code",
   "execution_count": 21,
   "outputs": [
    {
     "data": {
      "text/plain": "array([46.11236363])"
     },
     "execution_count": 21,
     "metadata": {},
     "output_type": "execute_result"
    }
   ],
   "source": [
    "femaleregs[1].predict([[180,80,80,80,80,80,80]])"
   ],
   "metadata": {
    "collapsed": false,
    "pycharm": {
     "name": "#%%\n"
    }
   }
  },
  {
   "cell_type": "code",
   "execution_count": 152,
   "outputs": [
    {
     "data": {
      "text/plain": "LinearRegression()"
     },
     "execution_count": 152,
     "metadata": {},
     "output_type": "execute_result"
    }
   ],
   "source": [
    "#regsF = Predictor.makeregs()[0]\n",
    "#regsM = Predictor.makeregs()[1]"
   ],
   "metadata": {
    "collapsed": false,
    "pycharm": {
     "name": "#%%\n"
    }
   }
  },
  {
   "cell_type": "code",
   "execution_count": 148,
   "outputs": [
    {
     "name": "stdout",
     "output_type": "stream",
     "text": [
      "([array([1.4042222]), array([1.5828991]), array([0.81213072]), array([0.5398025]), array([2.91025141])], [array([1.89093852]), array([1.60645639]), array([1.37102992]), array([0.5050585]), array([2.65393266])])\n"
     ]
    }
   ],
   "source": [
    "#print(Predictor.error_calc(regsF, regsM))"
   ],
   "metadata": {
    "collapsed": false,
    "pycharm": {
     "name": "#%%\n"
    }
   }
  }
 ],
 "metadata": {
  "kernelspec": {
   "display_name": "Python 3",
   "language": "python",
   "name": "python3"
  },
  "language_info": {
   "codemirror_mode": {
    "name": "ipython",
    "version": 2
   },
   "file_extension": ".py",
   "mimetype": "text/x-python",
   "name": "python",
   "nbconvert_exporter": "python",
   "pygments_lexer": "ipython2",
   "version": "2.7.6"
  }
 },
 "nbformat": 4,
 "nbformat_minor": 0
}